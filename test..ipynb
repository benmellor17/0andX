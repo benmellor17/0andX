{
 "cells": [
  {
   "cell_type": "code",
   "execution_count": 1,
   "metadata": {},
   "outputs": [
    {
     "ename": "AttributeError",
     "evalue": "'_tkinter.tkapp' object has no attribute '_create_board_grid'",
     "output_type": "error",
     "traceback": [
      "\u001b[1;31m---------------------------------------------------------------------------\u001b[0m",
      "\u001b[1;31mAttributeError\u001b[0m                            Traceback (most recent call last)",
      "Cell \u001b[1;32mIn[1], line 55\u001b[0m\n\u001b[0;32m     52\u001b[0m     board\u001b[38;5;241m.\u001b[39mmainloop()\n\u001b[0;32m     54\u001b[0m \u001b[38;5;28;01mif\u001b[39;00m \u001b[38;5;18m__name__\u001b[39m \u001b[38;5;241m==\u001b[39m \u001b[38;5;124m\"\u001b[39m\u001b[38;5;124m__main__\u001b[39m\u001b[38;5;124m\"\u001b[39m:\n\u001b[1;32m---> 55\u001b[0m     \u001b[43mmain\u001b[49m\u001b[43m(\u001b[49m\u001b[43m)\u001b[49m\n",
      "Cell \u001b[1;32mIn[1], line 51\u001b[0m, in \u001b[0;36mmain\u001b[1;34m()\u001b[0m\n\u001b[0;32m     50\u001b[0m \u001b[38;5;28;01mdef\u001b[39;00m \u001b[38;5;21mmain\u001b[39m():\n\u001b[1;32m---> 51\u001b[0m     board \u001b[38;5;241m=\u001b[39m \u001b[43mNoughtsandCrossBoard\u001b[49m\u001b[43m(\u001b[49m\u001b[43m)\u001b[49m\n\u001b[0;32m     52\u001b[0m     board\u001b[38;5;241m.\u001b[39mmainloop()\n",
      "Cell \u001b[1;32mIn[1], line 13\u001b[0m, in \u001b[0;36mNoughtsandCrossBoard.__init__\u001b[1;34m(self)\u001b[0m\n\u001b[0;32m     11\u001b[0m \u001b[38;5;28mself\u001b[39m\u001b[38;5;241m.\u001b[39mtitle(\u001b[38;5;124m\"\u001b[39m\u001b[38;5;124mNoughts and Crosses Game\u001b[39m\u001b[38;5;124m\"\u001b[39m)\n\u001b[0;32m     12\u001b[0m \u001b[38;5;28mself\u001b[39m\u001b[38;5;241m.\u001b[39m_cells \u001b[38;5;241m=\u001b[39m {}\n\u001b[1;32m---> 13\u001b[0m \u001b[38;5;28;43mself\u001b[39;49m\u001b[38;5;241;43m.\u001b[39;49m\u001b[43m_create_board_grid\u001b[49m() \u001b[38;5;66;03m# adds rows and cols\u001b[39;00m\n\u001b[0;32m     14\u001b[0m \u001b[38;5;28mself\u001b[39m\u001b[38;5;241m.\u001b[39m_create_board_display() \u001b[38;5;66;03m# creates backgorund display for game\u001b[39;00m\n\u001b[0;32m     16\u001b[0m \u001b[38;5;28;01mdef\u001b[39;00m \u001b[38;5;21m_create_board_display\u001b[39m(\u001b[38;5;28mself\u001b[39m):\n",
      "File \u001b[1;32m~\\Lib\\tkinter\\__init__.py:2411\u001b[0m, in \u001b[0;36mTk.__getattr__\u001b[1;34m(self, attr)\u001b[0m\n\u001b[0;32m   2409\u001b[0m \u001b[38;5;28;01mdef\u001b[39;00m \u001b[38;5;21m__getattr__\u001b[39m(\u001b[38;5;28mself\u001b[39m, attr):\n\u001b[0;32m   2410\u001b[0m     \u001b[38;5;124m\"\u001b[39m\u001b[38;5;124mDelegate attribute access to the interpreter object\u001b[39m\u001b[38;5;124m\"\u001b[39m\n\u001b[1;32m-> 2411\u001b[0m     \u001b[38;5;28;01mreturn\u001b[39;00m \u001b[38;5;28;43mgetattr\u001b[39;49m\u001b[43m(\u001b[49m\u001b[38;5;28;43mself\u001b[39;49m\u001b[38;5;241;43m.\u001b[39;49m\u001b[43mtk\u001b[49m\u001b[43m,\u001b[49m\u001b[43m \u001b[49m\u001b[43mattr\u001b[49m\u001b[43m)\u001b[49m\n",
      "\u001b[1;31mAttributeError\u001b[0m: '_tkinter.tkapp' object has no attribute '_create_board_grid'"
     ]
    }
   ],
   "source": [
    "# Noughts and Crosses game\n",
    "\n",
    "import tkinter as tk # import tkinter library This is defining tkinter as TK in the global namespace of the program\n",
    "from tkinter import font # import font module from TK lib\n",
    "\n",
    "\n",
    "\n",
    "class NoughtsandCrossBoard(tk.Tk): # Defines the games GUI and (Derived Class)class which inherits its data from the previously defined Tk class\n",
    "    def __init__(self): # Initialiser class for code calls all of the defined functions/variables in \n",
    "        super().__init__()\n",
    "        self.title(\"Noughts and Crosses Game\")\n",
    "        self._cells = {}\n",
    "        self._create_board_grid() # adds rows and cols\n",
    "        self._create_board_display() # creates backgorund display for game\n",
    "\n",
    "    def _create_board_display(self):\n",
    "        display_frame = tk.Frame(master=self) # Creates a frame object for the GUI, master args are set to self meaning the main window will be the frame's parent\n",
    "        display_frame.pack(fill=tk.X) # this will resize window to whatever the user moves it to and ensure the frame fills it's width\n",
    "        self.display = tk.Label(\n",
    "            master=display_frame,\n",
    "            text=\"Ready you maggot?\",\n",
    "            font=font.Font(size=28, weight='bold'),\n",
    "        )\n",
    "        self.display.pack() \n",
    "\n",
    "    def _create_board_grid(self): #Creates tk Frame to hold each of the games cells (where x and o are located)\n",
    "        grid_frame = tk.Frame(master=self) # master is self so the frames parent wll be the game window\n",
    "        grid_frame.pack()\n",
    "        for row in range(3):   # for loop which iterates from 0 to 2, (so 3) determines number of cells/rows on grid\n",
    "            grid_frame.rowconfig(row, weight=1, minsize=50)     \n",
    "            self.columnconfig(row, weight=1, minsize=75)  # ^ configures min size and width of each cell on the grid\n",
    "            for col in range (3): # same as line 26 but determines number of columns\n",
    "                button = tk.Button( # Creates button tk object for every cell, setting several attributes like the master, foreground colour etc\n",
    "                    master=grid_frame,\n",
    "                    text=\"\",\n",
    "                    fg=\"black\",\n",
    "                    font=font.Font(size=36, weight='bold'),\n",
    "                    width=2,\n",
    "                    height=3,\n",
    "                    highlightbackground='purple'\n",
    "                )\n",
    "                self._cells[button] = (row, col) # adds each button to the Dictionary [_cells] on line 11, buttons are they keys whilst the rows and cols are values\n",
    "                button.grid( # adds eacn button to our game by using .grid (Tkinter geomety manager)\n",
    "                    row=row,\n",
    "                    column=col,\n",
    "                    padx=5,\n",
    "                    pady=5,\n",
    "                    sticky='nsnew')\n",
    "                \n",
    "def main():\n",
    "    board = NoughtsandCrossBoard()\n",
    "    board.mainloop()\n",
    "\n",
    "if __name__ == \"__main__\":\n",
    "        main()"
   ]
  },
  {
   "cell_type": "code",
   "execution_count": 5,
   "metadata": {},
   "outputs": [
    {
     "name": "stdout",
     "output_type": "stream",
     "text": [
      "5 seconds\n"
     ]
    }
   ],
   "source": [
    "time = 8\n",
    "\n",
    "for i in range(8):\n",
    "    if time > 5:\n",
    "        time = time - 1\n",
    "    else:\n",
    "        print(time, \"seconds\")\n",
    "        break\n"
   ]
  }
 ],
 "metadata": {
  "kernelspec": {
   "display_name": ".venv",
   "language": "python",
   "name": "python3"
  },
  "language_info": {
   "codemirror_mode": {
    "name": "ipython",
    "version": 3
   },
   "file_extension": ".py",
   "mimetype": "text/x-python",
   "name": "python",
   "nbconvert_exporter": "python",
   "pygments_lexer": "ipython3",
   "version": "3.12.0"
  }
 },
 "nbformat": 4,
 "nbformat_minor": 2
}
